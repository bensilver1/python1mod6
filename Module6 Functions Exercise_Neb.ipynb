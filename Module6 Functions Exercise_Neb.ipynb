{
 "cells": [
  {
   "cell_type": "markdown",
   "metadata": {},
   "source": [
    "1. Round 4.5667 to the nearest hundreth using a build-in function, round()."
   ]
  },
  {
   "cell_type": "code",
   "execution_count": 2,
   "metadata": {},
   "outputs": [
    {
     "data": {
      "text/plain": [
       "4.57"
      ]
     },
     "execution_count": 2,
     "metadata": {},
     "output_type": "execute_result"
    }
   ],
   "source": [
    "round(4.5667,2)\n"
   ]
  },
  {
   "cell_type": "markdown",
   "metadata": {},
   "source": [
    "2. Convert \"657\" to an integer data type"
   ]
  },
  {
   "cell_type": "code",
   "execution_count": 3,
   "metadata": {},
   "outputs": [
    {
     "data": {
      "text/plain": [
       "657"
      ]
     },
     "execution_count": 3,
     "metadata": {},
     "output_type": "execute_result"
    }
   ],
   "source": [
    "int(\"657\")"
   ]
  },
  {
   "cell_type": "markdown",
   "metadata": {},
   "source": [
    "3.\n",
    "Write a program to get two numbers from a user. Then, create a secret code where a code consists of 6 numbers and each number is randomly generated number between two numbers from a user. "
   ]
  },
  {
   "cell_type": "code",
   "execution_count": 8,
   "metadata": {},
   "outputs": [
    {
     "name": "stdin",
     "output_type": "stream",
     "text": [
      "Enter a whole number:  2\n",
      "Enter another whole number:  8\n"
     ]
    },
    {
     "name": "stdout",
     "output_type": "stream",
     "text": [
      "8 6 7 8 8 3\n"
     ]
    }
   ],
   "source": [
    "import random as rand\n",
    "\n",
    "num1 = int(input(\"Enter a whole number: \"))\n",
    "num2 = int(input(\"Enter another whole number: \"))\n",
    "\n",
    "code1 = rand.randint(num1, num2)\n",
    "code2 = rand.randint(num1, num2)\n",
    "code3 = rand.randint(num1, num2)\n",
    "code4 = rand.randint(num1, num2)\n",
    "code5 = rand.randint(num1, num2)\n",
    "code6 = rand.randint(num1, num2)\n",
    "print(code1, code2, code3, code4, code5, code6)"
   ]
  },
  {
   "cell_type": "markdown",
   "metadata": {},
   "source": [
    "4.\n",
    "Write a program to center align below text where number of characters per line is 40:\n",
    "\n",
    "    Hickory, dickory, dock,\n",
    "    The mouse ran up the clock.\n",
    "    The clock struck one,\n",
    "    The mouse ran down,\n",
    "    Hickory, dickory, dock\n",
    "\n",
    "<b>Do not use string's center method! </b>"
   ]
  },
  {
   "cell_type": "code",
   "execution_count": null,
   "metadata": {},
   "outputs": [],
   "source": [
    "line1_length = len(line1)\n",
    "print(\"characters :\", line1_length)\n",
    "space_to_distribute = (maxchar - line1_length)\n",
    "print(\"space to distribute :\" , space_to_distribute)\n",
    "leading_space = (maxchar - line1_length)//2\n",
    "print(\"space1 :\", leading_space)\n",
    "trailing_space = ((maxchar - line1_length) - ((maxchar - line1_length)//2))\n",
    "print(\"space2 :\", trailing_space)\n",
    "print(\" \"*leading_space+line1+\" \"*trailing_space)"
   ]
  },
  {
   "cell_type": "code",
   "execution_count": 49,
   "metadata": {},
   "outputs": [
    {
     "name": "stdout",
     "output_type": "stream",
     "text": [
      "        Hickory, dickory, dock,         \n",
      "      The mouse ran up the clock.       \n",
      "         The clock struck one,          \n",
      "          The mouse ran down,           \n",
      "         Hickory, dickory, dock         \n"
     ]
    }
   ],
   "source": [
    "\n",
    "maxchar = 40\n",
    "\n",
    "def center_function(inputline) :\n",
    "    line = inputline\n",
    "    line_length = len(line)\n",
    "    space_to_distribute = (maxchar - line_length)\n",
    "    leading_space = (maxchar - line_length)//2\n",
    "    trailing_space = ((maxchar - line_length) - ((maxchar - line_length)//2))\n",
    "    centered_line = \" \"*leading_space+line+\" \"*trailing_space\n",
    "    print(centered_line)\n",
    "    print(f\" Total ine length: {len(centered_line)}, text length: {line_length}, leading space length: {leading_space}, trailing space length: {trailing_space}\")\n",
    "   \n",
    "    return\n",
    "\n",
    "line1 = \"Hickory, dickory, dock,\"\n",
    "center_function(line1)\n",
    "line2 = \"The mouse ran up the clock.\"\n",
    "center_function(line2)\n",
    "line3 = \"The clock struck one,\"\n",
    "center_function(line3)\n",
    "line4 = \"The mouse ran down,\"\n",
    "center_function(line4)\n",
    "line5 = \"Hickory, dickory, dock\"\n",
    "center_function(line5)\n",
    "\n"
   ]
  },
  {
   "cell_type": "markdown",
   "metadata": {},
   "source": [
    "5. Write a function to calculate the miles per gallon.\n",
    "Get a miles driven and gallons used from a user and call your function to calculate the miles per gallon. "
   ]
  },
  {
   "cell_type": "code",
   "execution_count": 53,
   "metadata": {},
   "outputs": [
    {
     "name": "stdin",
     "output_type": "stream",
     "text": [
      "Enter miles driven:  25\n",
      "Enter gallons used:  2\n"
     ]
    },
    {
     "name": "stdout",
     "output_type": "stream",
     "text": [
      "Miles driven: 25 milles, gallons used: 2 gallons, miles/gallon: 12.5 m/g\n"
     ]
    }
   ],
   "source": [
    "def calc_miles_per_gal():\n",
    "    miles_per_gallon = miles_driven/gallons_used\n",
    "    print(f\"Miles driven: {miles_driven} milles, gallons used: {gallons_used} gallons, miles/gallon: {miles_per_gallon} m/g\")\n",
    "\n",
    "    return\n",
    "\n",
    "miles_driven = int(input(\"Enter miles driven: \"))\n",
    "gallons_used = int(input(\"Enter gallons used: \"))\n",
    "    \n",
    "calc_miles_per_gal()\n"
   ]
  },
  {
   "cell_type": "code",
   "execution_count": null,
   "metadata": {},
   "outputs": [],
   "source": []
  }
 ],
 "metadata": {
  "kernelspec": {
   "display_name": "Python 3 (ipykernel)",
   "language": "python",
   "name": "python3"
  },
  "language_info": {
   "codemirror_mode": {
    "name": "ipython",
    "version": 3
   },
   "file_extension": ".py",
   "mimetype": "text/x-python",
   "name": "python",
   "nbconvert_exporter": "python",
   "pygments_lexer": "ipython3",
   "version": "3.11.7"
  }
 },
 "nbformat": 4,
 "nbformat_minor": 4
}
